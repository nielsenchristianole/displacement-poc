{
 "cells": [
  {
   "cell_type": "markdown",
   "metadata": {},
   "source": [
    "# Alternative representation of teeth\n",
    "\n",
    "Using the fact that teeth are topologically similar to planes, we can make a 2D representation of the tooth. To do this we suggest modelling a prototype tooth, similar to a tooth prior. Calculating the difference of a tooth and the prototype, allows for modelling teeth only using said difference. The difference will be modelled as a displacement map https://en.wikipedia.org/wiki/Displacement_mapping . Instead of just modelling the displacement as a magnitude displacement along the normal, it can be modelled as a displacement in each dimension seperately for increased flexibility.\n",
    "\n",
    "The core idea: map between each tooth and the prototype. This can be done by e.g. minimizing the energy of the teeth mesh projected to the prototype.\n",
    "From here it is trivial to retrieve the displacement map between shapes.\n",
    "\n",
    "Secondly, map between the prototype and the plane. If we constrain the prototype to be similar to spheres, many such methods exists for mapping the globe.\n",
    "\n",
    "From this the displacement map can be modelled as a 3 channel image, which is possible to sample from by e.g. diffusion models.\n",
    "\n",
    "To retrieve the original/generated shape, use the mapping between image and prototype to calculate the original datapoint.\n",
    "\n",
    "As the mapping between prototype and image is predetermined, each image becomes a valid 3D shape (with intersections when noisy)\n",
    "\n",
    "Pros:\n",
    "\n",
    "Each pixel is it's own datapoint. Using 128x128x3 images corrosponds to 16384 points on the surface.\n",
    "\n",
    "During the forward pass using convolutions allows points to get local information, meaning that complex structures such as textures, which are hard to capture without global shape latents in point cloud models, can be inferred.\n",
    "\n",
    "Multiple implementations of diffusion models are freely available. They also have class conditioning implemented. In the case of poor mapping strategies, using latent diffusion allows for efficient use of diffusion space https://arxiv.org/abs/2112.10752\n",
    "\n",
    "\n",
    "As a sanity check, I have tried creating a small toy dataset consisting of elipsis in polar coordinates, where I have added a bias to the radius consisting of a fourier series. With this I calculate a prototype and some mapping between datapoints and the prototype"
   ]
  },
  {
   "cell_type": "code",
   "execution_count": 1,
   "metadata": {},
   "outputs": [],
   "source": [
    "from pathlib import Path\n",
    "\n",
    "import tqdm\n",
    "import numpy as np\n",
    "import matplotlib.pyplot as plt\n",
    "\n",
    "from utils import calculate_sdf, plot_sdf, get_prototype_shape, fit_shape, project_shape\n"
   ]
  },
  {
   "cell_type": "code",
   "execution_count": 2,
   "metadata": {},
   "outputs": [],
   "source": [
    "data_dir = './data/train'\n",
    "num_freq = 12\n",
    "w_range = (-.5, .5)\n",
    "base_r = 7\n",
    "ellipsis_ratio = 2.\n",
    "sdf_resolution = 500\n",
    "\n",
    "max_radius = max(ellipsis_ratio, 1 / ellipsis_ratio) * (max(map(abs, w_range)) * num_freq + base_r)\n",
    "data_dir = Path(data_dir)\n"
   ]
  },
  {
   "cell_type": "code",
   "execution_count": 3,
   "metadata": {},
   "outputs": [
    {
     "name": "stderr",
     "output_type": "stream",
     "text": [
      "100%|██████████| 1000/1000 [00:00<00:00, 1492.49it/s]\n"
     ]
    }
   ],
   "source": [
    "sdf_paths = sorted((data_dir / 'sdf').iterdir(), key=lambda x: int(x.stem))\n",
    "shape_paths = sorted((data_dir / 'shape').iterdir(), key=lambda x: int(x.stem))\n",
    "\n",
    "sdfs = list()\n",
    "shapes = list()\n",
    "for sdf_path, shape_path in zip(tqdm.tqdm(sdf_paths), shape_paths):\n",
    "    sdf = np.load(sdf_path)\n",
    "    sdfs.append(sdf)\n",
    "    shape = np.load(shape_path)\n",
    "    shapes.append(shape)\n",
    "sdfs = np.stack(sdfs)\n"
   ]
  },
  {
   "cell_type": "code",
   "execution_count": null,
   "metadata": {},
   "outputs": [],
   "source": [
    "plot_sdf(*calculate_sdf(shapes[0], sdf_resolution, max_radius=max_radius), shapes[0], max_radius=max_radius)\n",
    "plt.title('Original shape [0]')\n",
    "plt.show()\n",
    "\n",
    "plot_sdf(*calculate_sdf(shapes[1], sdf_resolution, max_radius=max_radius), shapes[1], max_radius=max_radius)\n",
    "plt.title('Original shape [1]')\n",
    "plt.show()\n",
    "\n",
    "plot_sdf(*calculate_sdf(shapes[2], sdf_resolution, max_radius=max_radius), shapes[2], max_radius=max_radius)\n",
    "plt.title('Original shape [2]')\n",
    "plt.show()\n"
   ]
  },
  {
   "cell_type": "markdown",
   "metadata": {},
   "source": [
    "By taking the average of all the SDFs in out dataset, we can calculate a prototype SDF. To extract a prototype shape, we run maching cubes."
   ]
  },
  {
   "cell_type": "code",
   "execution_count": null,
   "metadata": {},
   "outputs": [],
   "source": [
    "p_shape = get_prototype_shape(sdfs, sdf_resolution=sdf_resolution, max_radius=max_radius)\n",
    "plot_sdf(*calculate_sdf(p_shape, sdf_resolution, max_radius=max_radius), p_shape, max_radius=max_radius)\n",
    "plt.title('Prototype shape')\n",
    "plt.show()"
   ]
  },
  {
   "cell_type": "markdown",
   "metadata": {},
   "source": [
    "We want to now create the displacement map, between the prototype shape, and any other shape in the dataset. This is done by creating a projected shape, by projecting the points from the other shape to the prototype shape. By minimizing the energy in the projected shape, we ensure that each part of the other shape, is represented equally in the displacement map.\n"
   ]
  },
  {
   "cell_type": "code",
   "execution_count": null,
   "metadata": {},
   "outputs": [],
   "source": [
    "orig_shape = shapes[0]\n",
    "shape_proj = fit_shape(\n",
    "    p_shape,\n",
    "    orig_shape)\n",
    "\n",
    "plt.plot(*orig_shape, label='original')\n",
    "plt.plot(*shape_proj, label='projected')\n",
    "plt.plot(*(p_shape + 0.1), label='prototype translated with 0.1')\n",
    "for i, (v1, v2) in enumerate(zip(orig_shape[:, ::20].T, shape_proj[:, ::20].T)):\n",
    "    plt.plot((v1[0], v2[0]), (v1[1], v2[1]), c='C3', label='Displacement' if i == 0 else None)\n",
    "plt.legend()\n",
    "plt.show()"
   ]
  },
  {
   "cell_type": "markdown",
   "metadata": {},
   "source": [
    "We now calculate the displacement map by first finding the displacement between the energy minimized projection and original shape. Then the displacment map is retrieved by interpolation."
   ]
  },
  {
   "cell_type": "code",
   "execution_count": null,
   "metadata": {},
   "outputs": [],
   "source": [
    "shape_diff = orig_shape - shape_proj\n",
    "displacement_map = project_shape(p_shape, reference_shape=shape_proj, extrat_vals=shape_diff)\n",
    "\n",
    "plt.plot(*(displacement_map + p_shape), label='Prototype + displacement')\n",
    "plt.plot(*(orig_shape+0.1), label='Original translated with 0.1')\n",
    "plt.legend()\n",
    "plt.show()"
   ]
  },
  {
   "cell_type": "code",
   "execution_count": null,
   "metadata": {},
   "outputs": [],
   "source": [
    "plt.plot(displacement_map[0], label='x displacement')\n",
    "plt.plot(displacement_map[1], label='y displacement')\n",
    "plt.legend()\n",
    "plt.show()"
   ]
  },
  {
   "cell_type": "markdown",
   "metadata": {},
   "source": [
    "Two more examples"
   ]
  },
  {
   "cell_type": "code",
   "execution_count": null,
   "metadata": {},
   "outputs": [],
   "source": [
    "for orig_shape in shapes[1:3]:\n",
    "\n",
    "    shape_proj = fit_shape(\n",
    "        p_shape,\n",
    "        orig_shape)\n",
    "    \n",
    "    shape_diff = orig_shape - shape_proj\n",
    "    displacement_map = project_shape(p_shape, reference_shape=shape_proj, extrat_vals=shape_diff)\n",
    "\n",
    "    plt.plot(displacement_map[0], label='x displacement')\n",
    "    plt.plot(displacement_map[1], label='y displacement')\n",
    "    plt.legend()\n",
    "    plt.show()"
   ]
  },
  {
   "cell_type": "markdown",
   "metadata": {},
   "source": [
    "Differences in 3D:\n",
    "\n",
    "All the shapes in 2D are star convex, this might not be the case in 3D, but it should be _close_.\n",
    "\n",
    "The mapping between prototype and other shape might be harder in 3D, as the parameterization is not independent for dimensions $u$ and $v$. Worst case scenario, some elastic cloth simulation should be able to do the trick.\n",
    "\n",
    "The teeth are not closed, but can probably be closed reasonably well using something like the winding number as done in fig 2 in https://onlinelibrary.wiley.com/doi/full/10.1111/cgf.14916.\n"
   ]
  }
 ],
 "metadata": {
  "kernelspec": {
   "display_name": "deep",
   "language": "python",
   "name": "python3"
  },
  "language_info": {
   "codemirror_mode": {
    "name": "ipython",
    "version": 3
   },
   "file_extension": ".py",
   "mimetype": "text/x-python",
   "name": "python",
   "nbconvert_exporter": "python",
   "pygments_lexer": "ipython3",
   "version": "3.11.9"
  }
 },
 "nbformat": 4,
 "nbformat_minor": 2
}
